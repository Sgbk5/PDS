{
 "cells": [
  {
   "cell_type": "code",
   "execution_count": 1,
   "id": "04549055-0a60-4e21-bb2f-fb64da5e7ab0",
   "metadata": {},
   "outputs": [],
   "source": [
    "import pandas as pd\n"
   ]
  },
  {
   "cell_type": "code",
   "execution_count": 2,
   "id": "45939517-8173-44ec-9e39-0277c9544635",
   "metadata": {},
   "outputs": [],
   "source": [
    "# importing clean data for analysis"
   ]
  },
  {
   "cell_type": "code",
   "execution_count": 3,
   "id": "5da269e8-73d6-4f15-8129-7b0182c7f2d3",
   "metadata": {},
   "outputs": [
    {
     "name": "stdout",
     "output_type": "stream",
     "text": [
      "   Unnamed: 0.1  Unnamed: 0 Height Weight  Age Grip Strength Frailty\n",
      "0             0           0  65.8    112   30            30       N \n",
      "1             1           1  71.5    136   19            31       N \n",
      "2             2           2  69.4    153   45            29       N \n",
      "3             3           3  68.2    142   22            28       Y \n",
      "4             4           4  67.8    144   29            24       Y \n",
      "5             5           5  68.7    123   50            26       N \n",
      "6             6           6  69.8    141   51            22       Y \n",
      "7             7           7  70.1    136   23            20       Y \n",
      "8             8           8  67.9    112   17            19       N \n",
      "9             9           9  66.8    120   39            31       N \n"
     ]
    }
   ],
   "source": [
    "data_frame = pd.read_csv('../data_raw/Frailty.csv')\n",
    "print(data_frame.to_string())"
   ]
  },
  {
   "cell_type": "code",
   "execution_count": 4,
   "id": "00601ec5-1cc1-4d6f-8354-b000168421dd",
   "metadata": {},
   "outputs": [],
   "source": [
    "# checks for null values"
   ]
  },
  {
   "cell_type": "code",
   "execution_count": 5,
   "id": "922c66d1-1883-407a-adac-b94d6082000b",
   "metadata": {},
   "outputs": [
    {
     "data": {
      "text/plain": [
       "Unnamed: 0.1     0\n",
       "Unnamed: 0       0\n",
       "Height           0\n",
       "Weight           0\n",
       "Age              0\n",
       "Grip Strength    0\n",
       "Frailty          0\n",
       "dtype: int64"
      ]
     },
     "execution_count": 5,
     "metadata": {},
     "output_type": "execute_result"
    }
   ],
   "source": [
    "data_frame.isnull().sum()"
   ]
  },
  {
   "cell_type": "code",
   "execution_count": 6,
   "id": "cfd1a290-dc56-458f-9140-047283039c12",
   "metadata": {},
   "outputs": [],
   "source": [
    "# store the cleaned data to data_raw folder"
   ]
  },
  {
   "cell_type": "code",
   "execution_count": 7,
   "id": "cbbf19be-f2a0-4d39-9ab0-c17b6441f756",
   "metadata": {},
   "outputs": [],
   "source": [
    "data_frame.to_csv('../data_clean/Frailty.csv')"
   ]
  },
  {
   "cell_type": "code",
   "execution_count": null,
   "id": "fb1e9970-2bcf-4fad-a2d5-d468f1ee3c76",
   "metadata": {},
   "outputs": [],
   "source": []
  }
 ],
 "metadata": {
  "kernelspec": {
   "display_name": "Python 3 (ipykernel)",
   "language": "python",
   "name": "python3"
  },
  "language_info": {
   "codemirror_mode": {
    "name": "ipython",
    "version": 3
   },
   "file_extension": ".py",
   "mimetype": "text/x-python",
   "name": "python",
   "nbconvert_exporter": "python",
   "pygments_lexer": "ipython3",
   "version": "3.11.5"
  }
 },
 "nbformat": 4,
 "nbformat_minor": 5
}
